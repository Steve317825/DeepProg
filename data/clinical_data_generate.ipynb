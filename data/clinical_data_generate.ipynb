{
 "cells": [
  {
   "cell_type": "code",
   "execution_count": 1,
   "metadata": {},
   "outputs": [],
   "source": [
    "import pandas as pd"
   ]
  },
  {
   "cell_type": "code",
   "execution_count": 2,
   "metadata": {},
   "outputs": [],
   "source": [
    "rna_df = pd.read_csv(\"MESO/rna.tsv\", sep = '\\t')"
   ]
  },
  {
   "cell_type": "code",
   "execution_count": 3,
   "metadata": {},
   "outputs": [],
   "source": [
    "case_list = set(rna_df['Samples'].tolist())"
   ]
  },
  {
   "cell_type": "markdown",
   "metadata": {},
   "source": [
    "# drug"
   ]
  },
  {
   "cell_type": "code",
   "execution_count": 4,
   "metadata": {},
   "outputs": [],
   "source": [
    "drug_df = pd.read_csv(\"MESO/drug.csv\")"
   ]
  },
  {
   "cell_type": "code",
   "execution_count": 5,
   "metadata": {},
   "outputs": [
    {
     "data": {
      "text/html": [
       "<div>\n",
       "<style scoped>\n",
       "    .dataframe tbody tr th:only-of-type {\n",
       "        vertical-align: middle;\n",
       "    }\n",
       "\n",
       "    .dataframe tbody tr th {\n",
       "        vertical-align: top;\n",
       "    }\n",
       "\n",
       "    .dataframe thead th {\n",
       "        text-align: right;\n",
       "    }\n",
       "</style>\n",
       "<table border=\"1\" class=\"dataframe\">\n",
       "  <thead>\n",
       "    <tr style=\"text-align: right;\">\n",
       "      <th></th>\n",
       "      <th>bcr_patient_barcode</th>\n",
       "      <th>pharmaceutical_therapy_drug_name</th>\n",
       "      <th>dasatinib</th>\n",
       "      <th>Cediranib</th>\n",
       "      <th>Dasatinib</th>\n",
       "      <th>Cisplatin</th>\n",
       "      <th>Pemetrexed</th>\n",
       "      <th>imatinib</th>\n",
       "      <th>everolimus</th>\n",
       "      <th>Carboplatin</th>\n",
       "      <th>...</th>\n",
       "      <th>Gemcitabine (Gemzar)</th>\n",
       "      <th>WT-1 Vaccine</th>\n",
       "      <th>EVERolimus</th>\n",
       "      <th>Vinorelbine</th>\n",
       "      <th>GL-ONC1</th>\n",
       "      <th>Porfimer Sodium(Photofin)</th>\n",
       "      <th>Porfimer Sodium (Photofrin)</th>\n",
       "      <th>2-[1-hexyloxyethyl]-2-devinyl pyropheophorbide-alpha (HPPH or Photochlor)</th>\n",
       "      <th>Porfimer Sodium (Photofin)</th>\n",
       "      <th>Sutent</th>\n",
       "    </tr>\n",
       "  </thead>\n",
       "  <tbody>\n",
       "    <tr>\n",
       "      <th>0</th>\n",
       "      <td>TCGA-3H-AB3K</td>\n",
       "      <td>dasatinib</td>\n",
       "      <td>1</td>\n",
       "      <td>0</td>\n",
       "      <td>0</td>\n",
       "      <td>0</td>\n",
       "      <td>0</td>\n",
       "      <td>0</td>\n",
       "      <td>0</td>\n",
       "      <td>0</td>\n",
       "      <td>...</td>\n",
       "      <td>0</td>\n",
       "      <td>0</td>\n",
       "      <td>0</td>\n",
       "      <td>0</td>\n",
       "      <td>0</td>\n",
       "      <td>0</td>\n",
       "      <td>0</td>\n",
       "      <td>0</td>\n",
       "      <td>0</td>\n",
       "      <td>0</td>\n",
       "    </tr>\n",
       "    <tr>\n",
       "      <th>1</th>\n",
       "      <td>TCGA-3H-AB3K</td>\n",
       "      <td>Cediranib</td>\n",
       "      <td>0</td>\n",
       "      <td>1</td>\n",
       "      <td>0</td>\n",
       "      <td>0</td>\n",
       "      <td>0</td>\n",
       "      <td>0</td>\n",
       "      <td>0</td>\n",
       "      <td>0</td>\n",
       "      <td>...</td>\n",
       "      <td>0</td>\n",
       "      <td>0</td>\n",
       "      <td>0</td>\n",
       "      <td>0</td>\n",
       "      <td>0</td>\n",
       "      <td>0</td>\n",
       "      <td>0</td>\n",
       "      <td>0</td>\n",
       "      <td>0</td>\n",
       "      <td>0</td>\n",
       "    </tr>\n",
       "    <tr>\n",
       "      <th>2</th>\n",
       "      <td>TCGA-3H-AB3L</td>\n",
       "      <td>Dasatinib</td>\n",
       "      <td>0</td>\n",
       "      <td>0</td>\n",
       "      <td>1</td>\n",
       "      <td>0</td>\n",
       "      <td>0</td>\n",
       "      <td>0</td>\n",
       "      <td>0</td>\n",
       "      <td>0</td>\n",
       "      <td>...</td>\n",
       "      <td>0</td>\n",
       "      <td>0</td>\n",
       "      <td>0</td>\n",
       "      <td>0</td>\n",
       "      <td>0</td>\n",
       "      <td>0</td>\n",
       "      <td>0</td>\n",
       "      <td>0</td>\n",
       "      <td>0</td>\n",
       "      <td>0</td>\n",
       "    </tr>\n",
       "    <tr>\n",
       "      <th>3</th>\n",
       "      <td>TCGA-3H-AB3M</td>\n",
       "      <td>Dasatinib</td>\n",
       "      <td>0</td>\n",
       "      <td>0</td>\n",
       "      <td>1</td>\n",
       "      <td>0</td>\n",
       "      <td>0</td>\n",
       "      <td>0</td>\n",
       "      <td>0</td>\n",
       "      <td>0</td>\n",
       "      <td>...</td>\n",
       "      <td>0</td>\n",
       "      <td>0</td>\n",
       "      <td>0</td>\n",
       "      <td>0</td>\n",
       "      <td>0</td>\n",
       "      <td>0</td>\n",
       "      <td>0</td>\n",
       "      <td>0</td>\n",
       "      <td>0</td>\n",
       "      <td>0</td>\n",
       "    </tr>\n",
       "  </tbody>\n",
       "</table>\n",
       "<p>4 rows × 44 columns</p>\n",
       "</div>"
      ],
      "text/plain": [
       "  bcr_patient_barcode pharmaceutical_therapy_drug_name  dasatinib  Cediranib  \\\n",
       "0        TCGA-3H-AB3K                        dasatinib          1          0   \n",
       "1        TCGA-3H-AB3K                        Cediranib          0          1   \n",
       "2        TCGA-3H-AB3L                        Dasatinib          0          0   \n",
       "3        TCGA-3H-AB3M                        Dasatinib          0          0   \n",
       "\n",
       "   Dasatinib  Cisplatin  Pemetrexed  imatinib  everolimus  Carboplatin  ...  \\\n",
       "0          0          0           0         0           0            0  ...   \n",
       "1          0          0           0         0           0            0  ...   \n",
       "2          1          0           0         0           0            0  ...   \n",
       "3          1          0           0         0           0            0  ...   \n",
       "\n",
       "   Gemcitabine (Gemzar)  WT-1 Vaccine  EVERolimus  Vinorelbine  GL-ONC1  \\\n",
       "0                     0             0           0            0        0   \n",
       "1                     0             0           0            0        0   \n",
       "2                     0             0           0            0        0   \n",
       "3                     0             0           0            0        0   \n",
       "\n",
       "   Porfimer Sodium(Photofin)  Porfimer Sodium (Photofrin)  \\\n",
       "0                          0                            0   \n",
       "1                          0                            0   \n",
       "2                          0                            0   \n",
       "3                          0                            0   \n",
       "\n",
       "   2-[1-hexyloxyethyl]-2-devinyl pyropheophorbide-alpha (HPPH or Photochlor)  \\\n",
       "0                                                  0                           \n",
       "1                                                  0                           \n",
       "2                                                  0                           \n",
       "3                                                  0                           \n",
       "\n",
       "   Porfimer Sodium (Photofin)  Sutent  \n",
       "0                           0       0  \n",
       "1                           0       0  \n",
       "2                           0       0  \n",
       "3                           0       0  \n",
       "\n",
       "[4 rows x 44 columns]"
      ]
     },
     "execution_count": 5,
     "metadata": {},
     "output_type": "execute_result"
    }
   ],
   "source": [
    "drug_list = drug_df.pharmaceutical_therapy_drug_name.unique().tolist()\n",
    "drug_df.head(4)"
   ]
  },
  {
   "cell_type": "code",
   "execution_count": 6,
   "metadata": {},
   "outputs": [],
   "source": [
    "drug_df.drop(['pharmaceutical_therapy_drug_name'],axis = 1)\n",
    "drug_df = drug_df.groupby('bcr_patient_barcode')[drug_list].sum().reset_index()"
   ]
  },
  {
   "cell_type": "code",
   "execution_count": 7,
   "metadata": {},
   "outputs": [],
   "source": [
    "drug_df.bcr_patient_barcode = drug_df.bcr_patient_barcode.str.replace(\"-\",'.')\n",
    "drug_df.bcr_patient_barcode = drug_df.bcr_patient_barcode.apply(lambda x: x + \".01\")\n"
   ]
  },
  {
   "cell_type": "code",
   "execution_count": 8,
   "metadata": {},
   "outputs": [],
   "source": [
    "drug_case_list = set(drug_df.bcr_patient_barcode.tolist())"
   ]
  },
  {
   "cell_type": "code",
   "execution_count": 9,
   "metadata": {},
   "outputs": [],
   "source": [
    "drug_difference = list(case_list.difference(drug_case_list))\n",
    "drug_difference1 = list(drug_case_list.difference(case_list))\n",
    "drug_df = drug_df[~drug_df['bcr_patient_barcode'].isin(drug_difference1)].reset_index()"
   ]
  },
  {
   "cell_type": "code",
   "execution_count": 10,
   "metadata": {},
   "outputs": [],
   "source": [
    "drug_df.drop([\"index\"], axis = 1, inplace = True)"
   ]
  },
  {
   "cell_type": "code",
   "execution_count": 11,
   "metadata": {},
   "outputs": [
    {
     "data": {
      "text/plain": [
       "86"
      ]
     },
     "execution_count": 11,
     "metadata": {},
     "output_type": "execute_result"
    }
   ],
   "source": [
    "len(drug_difference)"
   ]
  },
  {
   "cell_type": "code",
   "execution_count": 12,
   "metadata": {},
   "outputs": [
    {
     "data": {
      "text/plain": [
       "0"
      ]
     },
     "execution_count": 12,
     "metadata": {},
     "output_type": "execute_result"
    }
   ],
   "source": [
    "len(drug_df)"
   ]
  },
  {
   "cell_type": "code",
   "execution_count": 13,
   "metadata": {},
   "outputs": [],
   "source": [
    "length = len(drug_df)\n",
    "for i in range(len(drug_difference)):\n",
    "    add_row = [drug_difference[i]] + [0] * (len(drug_df.columns) - 1) \n",
    "    drug_df.loc[length + i] = add_row\n"
   ]
  },
  {
   "cell_type": "code",
   "execution_count": 14,
   "metadata": {},
   "outputs": [],
   "source": [
    "drug_df.rename(columns = {\"bcr_patient_barcode\":\"Samples\"}, inplace = True)"
   ]
  },
  {
   "cell_type": "code",
   "execution_count": 15,
   "metadata": {},
   "outputs": [],
   "source": [
    "drug_df.set_index('Samples', inplace = True)\n",
    "drug_df = drug_df.loc[rna_df['Samples'].tolist()]\n",
    "drug_df.reset_index(inplace = True)"
   ]
  },
  {
   "cell_type": "code",
   "execution_count": 16,
   "metadata": {},
   "outputs": [],
   "source": [
    "drug_df.to_csv(\"MESO/drug.tsv\", sep = '\\t', index = None)"
   ]
  },
  {
   "cell_type": "markdown",
   "metadata": {},
   "source": [
    "# whole exome sequence"
   ]
  },
  {
   "cell_type": "code",
   "execution_count": 17,
   "metadata": {},
   "outputs": [],
   "source": [
    "wxs_df = pd.read_csv(\"wxs.csv\", sep = '\\t')"
   ]
  },
  {
   "cell_type": "code",
   "execution_count": 18,
   "metadata": {},
   "outputs": [
    {
     "data": {
      "text/plain": [
       "371"
      ]
     },
     "execution_count": 18,
     "metadata": {},
     "output_type": "execute_result"
    }
   ],
   "source": [
    "len(wxs_df)"
   ]
  },
  {
   "cell_type": "code",
   "execution_count": 19,
   "metadata": {},
   "outputs": [],
   "source": [
    "wxs_df = wxs_df.groupby('case').sum().reset_index()"
   ]
  },
  {
   "cell_type": "code",
   "execution_count": 20,
   "metadata": {},
   "outputs": [],
   "source": [
    "wxs_df.case = wxs_df.case.str.replace(\"-\",'.')\n",
    "wxs_df.case = wxs_df.case.apply(lambda x: x + \".01\")\n"
   ]
  },
  {
   "cell_type": "code",
   "execution_count": 21,
   "metadata": {},
   "outputs": [
    {
     "data": {
      "text/html": [
       "<div>\n",
       "<style scoped>\n",
       "    .dataframe tbody tr th:only-of-type {\n",
       "        vertical-align: middle;\n",
       "    }\n",
       "\n",
       "    .dataframe tbody tr th {\n",
       "        vertical-align: top;\n",
       "    }\n",
       "\n",
       "    .dataframe thead th {\n",
       "        text-align: right;\n",
       "    }\n",
       "</style>\n",
       "<table border=\"1\" class=\"dataframe\">\n",
       "  <thead>\n",
       "    <tr style=\"text-align: right;\">\n",
       "      <th></th>\n",
       "      <th>case</th>\n",
       "      <th>SPATA13</th>\n",
       "      <th>ZNF569</th>\n",
       "      <th>SNAI3</th>\n",
       "      <th>CST9L</th>\n",
       "      <th>NPNT</th>\n",
       "      <th>TAS1R2</th>\n",
       "      <th>PPIC</th>\n",
       "      <th>TMEM204</th>\n",
       "      <th>CEP131</th>\n",
       "      <th>...</th>\n",
       "      <th>UPP1</th>\n",
       "      <th>AGO1</th>\n",
       "      <th>FMR1NB</th>\n",
       "      <th>CFAP74</th>\n",
       "      <th>MAGEA5</th>\n",
       "      <th>FBXW7</th>\n",
       "      <th>LCE4A</th>\n",
       "      <th>INTS4</th>\n",
       "      <th>FGF7</th>\n",
       "      <th>LCE2B</th>\n",
       "    </tr>\n",
       "  </thead>\n",
       "  <tbody>\n",
       "    <tr>\n",
       "      <th>0</th>\n",
       "      <td>TCGA.2V.A95S.01</td>\n",
       "      <td>0.0</td>\n",
       "      <td>0.0</td>\n",
       "      <td>0.0</td>\n",
       "      <td>0.0</td>\n",
       "      <td>0.0</td>\n",
       "      <td>0.0</td>\n",
       "      <td>0.0</td>\n",
       "      <td>0.0</td>\n",
       "      <td>0.0</td>\n",
       "      <td>...</td>\n",
       "      <td>0.0</td>\n",
       "      <td>0.0</td>\n",
       "      <td>0.0</td>\n",
       "      <td>0.0</td>\n",
       "      <td>0.0</td>\n",
       "      <td>0.0</td>\n",
       "      <td>0.0</td>\n",
       "      <td>0.0</td>\n",
       "      <td>0.0</td>\n",
       "      <td>0.0</td>\n",
       "    </tr>\n",
       "    <tr>\n",
       "      <th>1</th>\n",
       "      <td>TCGA.2Y.A9GS.01</td>\n",
       "      <td>0.0</td>\n",
       "      <td>0.0</td>\n",
       "      <td>0.0</td>\n",
       "      <td>0.0</td>\n",
       "      <td>0.0</td>\n",
       "      <td>0.0</td>\n",
       "      <td>0.0</td>\n",
       "      <td>0.0</td>\n",
       "      <td>0.0</td>\n",
       "      <td>...</td>\n",
       "      <td>0.0</td>\n",
       "      <td>0.0</td>\n",
       "      <td>0.0</td>\n",
       "      <td>0.0</td>\n",
       "      <td>0.0</td>\n",
       "      <td>0.0</td>\n",
       "      <td>0.0</td>\n",
       "      <td>0.0</td>\n",
       "      <td>0.0</td>\n",
       "      <td>0.0</td>\n",
       "    </tr>\n",
       "    <tr>\n",
       "      <th>2</th>\n",
       "      <td>TCGA.2Y.A9GT.01</td>\n",
       "      <td>0.0</td>\n",
       "      <td>0.0</td>\n",
       "      <td>0.0</td>\n",
       "      <td>0.0</td>\n",
       "      <td>0.0</td>\n",
       "      <td>0.0</td>\n",
       "      <td>0.0</td>\n",
       "      <td>0.0</td>\n",
       "      <td>0.0</td>\n",
       "      <td>...</td>\n",
       "      <td>0.0</td>\n",
       "      <td>0.0</td>\n",
       "      <td>0.0</td>\n",
       "      <td>0.0</td>\n",
       "      <td>0.0</td>\n",
       "      <td>0.0</td>\n",
       "      <td>0.0</td>\n",
       "      <td>0.0</td>\n",
       "      <td>0.0</td>\n",
       "      <td>0.0</td>\n",
       "    </tr>\n",
       "    <tr>\n",
       "      <th>3</th>\n",
       "      <td>TCGA.2Y.A9GU.01</td>\n",
       "      <td>0.0</td>\n",
       "      <td>0.0</td>\n",
       "      <td>0.0</td>\n",
       "      <td>0.0</td>\n",
       "      <td>0.0</td>\n",
       "      <td>0.0</td>\n",
       "      <td>0.0</td>\n",
       "      <td>0.0</td>\n",
       "      <td>0.0</td>\n",
       "      <td>...</td>\n",
       "      <td>0.0</td>\n",
       "      <td>0.0</td>\n",
       "      <td>0.0</td>\n",
       "      <td>0.0</td>\n",
       "      <td>0.0</td>\n",
       "      <td>0.0</td>\n",
       "      <td>0.0</td>\n",
       "      <td>0.0</td>\n",
       "      <td>0.0</td>\n",
       "      <td>0.0</td>\n",
       "    </tr>\n",
       "    <tr>\n",
       "      <th>4</th>\n",
       "      <td>TCGA.2Y.A9GV.01</td>\n",
       "      <td>0.0</td>\n",
       "      <td>0.0</td>\n",
       "      <td>0.0</td>\n",
       "      <td>0.0</td>\n",
       "      <td>0.0</td>\n",
       "      <td>0.0</td>\n",
       "      <td>0.0</td>\n",
       "      <td>0.0</td>\n",
       "      <td>0.0</td>\n",
       "      <td>...</td>\n",
       "      <td>0.0</td>\n",
       "      <td>0.0</td>\n",
       "      <td>0.0</td>\n",
       "      <td>0.0</td>\n",
       "      <td>0.0</td>\n",
       "      <td>0.0</td>\n",
       "      <td>0.0</td>\n",
       "      <td>0.0</td>\n",
       "      <td>0.0</td>\n",
       "      <td>0.0</td>\n",
       "    </tr>\n",
       "  </tbody>\n",
       "</table>\n",
       "<p>5 rows × 14341 columns</p>\n",
       "</div>"
      ],
      "text/plain": [
       "              case  SPATA13  ZNF569  SNAI3  CST9L  NPNT  TAS1R2  PPIC  \\\n",
       "0  TCGA.2V.A95S.01      0.0     0.0    0.0    0.0   0.0     0.0   0.0   \n",
       "1  TCGA.2Y.A9GS.01      0.0     0.0    0.0    0.0   0.0     0.0   0.0   \n",
       "2  TCGA.2Y.A9GT.01      0.0     0.0    0.0    0.0   0.0     0.0   0.0   \n",
       "3  TCGA.2Y.A9GU.01      0.0     0.0    0.0    0.0   0.0     0.0   0.0   \n",
       "4  TCGA.2Y.A9GV.01      0.0     0.0    0.0    0.0   0.0     0.0   0.0   \n",
       "\n",
       "   TMEM204  CEP131  ...  UPP1  AGO1  FMR1NB  CFAP74  MAGEA5  FBXW7  LCE4A  \\\n",
       "0      0.0     0.0  ...   0.0   0.0     0.0     0.0     0.0    0.0    0.0   \n",
       "1      0.0     0.0  ...   0.0   0.0     0.0     0.0     0.0    0.0    0.0   \n",
       "2      0.0     0.0  ...   0.0   0.0     0.0     0.0     0.0    0.0    0.0   \n",
       "3      0.0     0.0  ...   0.0   0.0     0.0     0.0     0.0    0.0    0.0   \n",
       "4      0.0     0.0  ...   0.0   0.0     0.0     0.0     0.0    0.0    0.0   \n",
       "\n",
       "   INTS4  FGF7  LCE2B  \n",
       "0    0.0   0.0    0.0  \n",
       "1    0.0   0.0    0.0  \n",
       "2    0.0   0.0    0.0  \n",
       "3    0.0   0.0    0.0  \n",
       "4    0.0   0.0    0.0  \n",
       "\n",
       "[5 rows x 14341 columns]"
      ]
     },
     "execution_count": 21,
     "metadata": {},
     "output_type": "execute_result"
    }
   ],
   "source": [
    "wxs_df.head(5)"
   ]
  },
  {
   "cell_type": "code",
   "execution_count": 22,
   "metadata": {},
   "outputs": [],
   "source": [
    "wxs_case_list = set(wxs_df.case.tolist())\n",
    "wxs_difference = list(case_list.difference(wxs_case_list))\n",
    "wxs_difference1 = list(wxs_case_list.difference(case_list))\n",
    "wxs_df = wxs_df[~wxs_df['case'].isin(wxs_difference1)].reset_index()\n",
    "wxs_df.drop([\"index\"], axis = 1, inplace = True)"
   ]
  },
  {
   "cell_type": "code",
   "execution_count": 23,
   "metadata": {},
   "outputs": [
    {
     "data": {
      "text/plain": [
       "9"
      ]
     },
     "execution_count": 23,
     "metadata": {},
     "output_type": "execute_result"
    }
   ],
   "source": [
    "len(wxs_difference)"
   ]
  },
  {
   "cell_type": "code",
   "execution_count": 24,
   "metadata": {},
   "outputs": [
    {
     "data": {
      "text/plain": [
       "351"
      ]
     },
     "execution_count": 24,
     "metadata": {},
     "output_type": "execute_result"
    }
   ],
   "source": [
    "len(wxs_df)"
   ]
  },
  {
   "cell_type": "code",
   "execution_count": 25,
   "metadata": {},
   "outputs": [],
   "source": [
    "length = len(wxs_df)\n",
    "for i in range(len(wxs_difference)):\n",
    "    add_row = [wxs_difference[i]] + [0] * (len(wxs_df.columns) - 1) \n",
    "    wxs_df.loc[length + i] = add_row"
   ]
  },
  {
   "cell_type": "code",
   "execution_count": 26,
   "metadata": {},
   "outputs": [],
   "source": [
    "wxs_df.rename(columns = {\"case\":\"Samples\"}, inplace = True)"
   ]
  },
  {
   "cell_type": "code",
   "execution_count": 27,
   "metadata": {},
   "outputs": [],
   "source": [
    "wxs_df.set_index('Samples', inplace = True)"
   ]
  },
  {
   "cell_type": "code",
   "execution_count": 28,
   "metadata": {},
   "outputs": [
    {
     "data": {
      "text/plain": [
       "Index(['TCGA.2V.A95S.01', 'TCGA.2Y.A9GS.01', 'TCGA.2Y.A9GT.01',\n",
       "       'TCGA.2Y.A9GU.01', 'TCGA.2Y.A9GV.01', 'TCGA.2Y.A9GW.01',\n",
       "       'TCGA.2Y.A9GX.01', 'TCGA.2Y.A9GY.01', 'TCGA.2Y.A9GZ.01',\n",
       "       'TCGA.2Y.A9H0.01',\n",
       "       ...\n",
       "       'TCGA.ZS.A9CG.01', 'TCGA.BC.4072.01', 'TCGA.BC.A110.01',\n",
       "       'TCGA.BC.A10S.01', 'TCGA.G3.A7M7.01', 'TCGA.ED.A627.01',\n",
       "       'TCGA.CC.5261.01', 'TCGA.DD.A1EE.01', 'TCGA.G3.A25X.01',\n",
       "       'TCGA.BC.A69I.01'],\n",
       "      dtype='object', name='Samples', length=360)"
      ]
     },
     "execution_count": 28,
     "metadata": {},
     "output_type": "execute_result"
    }
   ],
   "source": [
    "wxs_df.index"
   ]
  },
  {
   "cell_type": "code",
   "execution_count": 29,
   "metadata": {},
   "outputs": [],
   "source": [
    "wxs_df = wxs_df.loc[rna_df['Samples'].tolist()]"
   ]
  },
  {
   "cell_type": "code",
   "execution_count": 30,
   "metadata": {},
   "outputs": [
    {
     "data": {
      "text/html": [
       "<div>\n",
       "<style scoped>\n",
       "    .dataframe tbody tr th:only-of-type {\n",
       "        vertical-align: middle;\n",
       "    }\n",
       "\n",
       "    .dataframe tbody tr th {\n",
       "        vertical-align: top;\n",
       "    }\n",
       "\n",
       "    .dataframe thead th {\n",
       "        text-align: right;\n",
       "    }\n",
       "</style>\n",
       "<table border=\"1\" class=\"dataframe\">\n",
       "  <thead>\n",
       "    <tr style=\"text-align: right;\">\n",
       "      <th></th>\n",
       "      <th>SPATA13</th>\n",
       "      <th>ZNF569</th>\n",
       "      <th>SNAI3</th>\n",
       "      <th>CST9L</th>\n",
       "      <th>NPNT</th>\n",
       "      <th>TAS1R2</th>\n",
       "      <th>PPIC</th>\n",
       "      <th>TMEM204</th>\n",
       "      <th>CEP131</th>\n",
       "      <th>STOX2</th>\n",
       "      <th>...</th>\n",
       "      <th>UPP1</th>\n",
       "      <th>AGO1</th>\n",
       "      <th>FMR1NB</th>\n",
       "      <th>CFAP74</th>\n",
       "      <th>MAGEA5</th>\n",
       "      <th>FBXW7</th>\n",
       "      <th>LCE4A</th>\n",
       "      <th>INTS4</th>\n",
       "      <th>FGF7</th>\n",
       "      <th>LCE2B</th>\n",
       "    </tr>\n",
       "    <tr>\n",
       "      <th>Samples</th>\n",
       "      <th></th>\n",
       "      <th></th>\n",
       "      <th></th>\n",
       "      <th></th>\n",
       "      <th></th>\n",
       "      <th></th>\n",
       "      <th></th>\n",
       "      <th></th>\n",
       "      <th></th>\n",
       "      <th></th>\n",
       "      <th></th>\n",
       "      <th></th>\n",
       "      <th></th>\n",
       "      <th></th>\n",
       "      <th></th>\n",
       "      <th></th>\n",
       "      <th></th>\n",
       "      <th></th>\n",
       "      <th></th>\n",
       "      <th></th>\n",
       "      <th></th>\n",
       "    </tr>\n",
       "  </thead>\n",
       "  <tbody>\n",
       "    <tr>\n",
       "      <th>TCGA.2V.A95S.01</th>\n",
       "      <td>0.0</td>\n",
       "      <td>0.0</td>\n",
       "      <td>0.0</td>\n",
       "      <td>0.0</td>\n",
       "      <td>0.0</td>\n",
       "      <td>0.0</td>\n",
       "      <td>0.0</td>\n",
       "      <td>0.0</td>\n",
       "      <td>0.0</td>\n",
       "      <td>0.0</td>\n",
       "      <td>...</td>\n",
       "      <td>0.0</td>\n",
       "      <td>0.0</td>\n",
       "      <td>0.0</td>\n",
       "      <td>0.0</td>\n",
       "      <td>0.0</td>\n",
       "      <td>0.0</td>\n",
       "      <td>0.0</td>\n",
       "      <td>0.0</td>\n",
       "      <td>0.0</td>\n",
       "      <td>0.0</td>\n",
       "    </tr>\n",
       "    <tr>\n",
       "      <th>TCGA.2Y.A9GS.01</th>\n",
       "      <td>0.0</td>\n",
       "      <td>0.0</td>\n",
       "      <td>0.0</td>\n",
       "      <td>0.0</td>\n",
       "      <td>0.0</td>\n",
       "      <td>0.0</td>\n",
       "      <td>0.0</td>\n",
       "      <td>0.0</td>\n",
       "      <td>0.0</td>\n",
       "      <td>0.0</td>\n",
       "      <td>...</td>\n",
       "      <td>0.0</td>\n",
       "      <td>0.0</td>\n",
       "      <td>0.0</td>\n",
       "      <td>0.0</td>\n",
       "      <td>0.0</td>\n",
       "      <td>0.0</td>\n",
       "      <td>0.0</td>\n",
       "      <td>0.0</td>\n",
       "      <td>0.0</td>\n",
       "      <td>0.0</td>\n",
       "    </tr>\n",
       "    <tr>\n",
       "      <th>TCGA.2Y.A9GT.01</th>\n",
       "      <td>0.0</td>\n",
       "      <td>0.0</td>\n",
       "      <td>0.0</td>\n",
       "      <td>0.0</td>\n",
       "      <td>0.0</td>\n",
       "      <td>0.0</td>\n",
       "      <td>0.0</td>\n",
       "      <td>0.0</td>\n",
       "      <td>0.0</td>\n",
       "      <td>0.0</td>\n",
       "      <td>...</td>\n",
       "      <td>0.0</td>\n",
       "      <td>0.0</td>\n",
       "      <td>0.0</td>\n",
       "      <td>0.0</td>\n",
       "      <td>0.0</td>\n",
       "      <td>0.0</td>\n",
       "      <td>0.0</td>\n",
       "      <td>0.0</td>\n",
       "      <td>0.0</td>\n",
       "      <td>0.0</td>\n",
       "    </tr>\n",
       "    <tr>\n",
       "      <th>TCGA.2Y.A9GU.01</th>\n",
       "      <td>0.0</td>\n",
       "      <td>0.0</td>\n",
       "      <td>0.0</td>\n",
       "      <td>0.0</td>\n",
       "      <td>0.0</td>\n",
       "      <td>0.0</td>\n",
       "      <td>0.0</td>\n",
       "      <td>0.0</td>\n",
       "      <td>0.0</td>\n",
       "      <td>0.0</td>\n",
       "      <td>...</td>\n",
       "      <td>0.0</td>\n",
       "      <td>0.0</td>\n",
       "      <td>0.0</td>\n",
       "      <td>0.0</td>\n",
       "      <td>0.0</td>\n",
       "      <td>0.0</td>\n",
       "      <td>0.0</td>\n",
       "      <td>0.0</td>\n",
       "      <td>0.0</td>\n",
       "      <td>0.0</td>\n",
       "    </tr>\n",
       "  </tbody>\n",
       "</table>\n",
       "<p>4 rows × 14340 columns</p>\n",
       "</div>"
      ],
      "text/plain": [
       "                 SPATA13  ZNF569  SNAI3  CST9L  NPNT  TAS1R2  PPIC  TMEM204  \\\n",
       "Samples                                                                       \n",
       "TCGA.2V.A95S.01      0.0     0.0    0.0    0.0   0.0     0.0   0.0      0.0   \n",
       "TCGA.2Y.A9GS.01      0.0     0.0    0.0    0.0   0.0     0.0   0.0      0.0   \n",
       "TCGA.2Y.A9GT.01      0.0     0.0    0.0    0.0   0.0     0.0   0.0      0.0   \n",
       "TCGA.2Y.A9GU.01      0.0     0.0    0.0    0.0   0.0     0.0   0.0      0.0   \n",
       "\n",
       "                 CEP131  STOX2  ...  UPP1  AGO1  FMR1NB  CFAP74  MAGEA5  \\\n",
       "Samples                         ...                                       \n",
       "TCGA.2V.A95S.01     0.0    0.0  ...   0.0   0.0     0.0     0.0     0.0   \n",
       "TCGA.2Y.A9GS.01     0.0    0.0  ...   0.0   0.0     0.0     0.0     0.0   \n",
       "TCGA.2Y.A9GT.01     0.0    0.0  ...   0.0   0.0     0.0     0.0     0.0   \n",
       "TCGA.2Y.A9GU.01     0.0    0.0  ...   0.0   0.0     0.0     0.0     0.0   \n",
       "\n",
       "                 FBXW7  LCE4A  INTS4  FGF7  LCE2B  \n",
       "Samples                                            \n",
       "TCGA.2V.A95S.01    0.0    0.0    0.0   0.0    0.0  \n",
       "TCGA.2Y.A9GS.01    0.0    0.0    0.0   0.0    0.0  \n",
       "TCGA.2Y.A9GT.01    0.0    0.0    0.0   0.0    0.0  \n",
       "TCGA.2Y.A9GU.01    0.0    0.0    0.0   0.0    0.0  \n",
       "\n",
       "[4 rows x 14340 columns]"
      ]
     },
     "execution_count": 30,
     "metadata": {},
     "output_type": "execute_result"
    }
   ],
   "source": [
    "wxs_df.head(4)"
   ]
  },
  {
   "cell_type": "code",
   "execution_count": 31,
   "metadata": {},
   "outputs": [],
   "source": [
    "wxs_df.reset_index(inplace = True)\n",
    "wxs_df.to_csv(\"wxs.tsv\", sep = '\\t', index = None)"
   ]
  },
  {
   "cell_type": "code",
   "execution_count": 32,
   "metadata": {},
   "outputs": [
    {
     "data": {
      "text/html": [
       "<div>\n",
       "<style scoped>\n",
       "    .dataframe tbody tr th:only-of-type {\n",
       "        vertical-align: middle;\n",
       "    }\n",
       "\n",
       "    .dataframe tbody tr th {\n",
       "        vertical-align: top;\n",
       "    }\n",
       "\n",
       "    .dataframe thead th {\n",
       "        text-align: right;\n",
       "    }\n",
       "</style>\n",
       "<table border=\"1\" class=\"dataframe\">\n",
       "  <thead>\n",
       "    <tr style=\"text-align: right;\">\n",
       "      <th></th>\n",
       "      <th>Samples</th>\n",
       "      <th>?</th>\n",
       "      <th>?.1</th>\n",
       "      <th>?.2</th>\n",
       "      <th>?.3</th>\n",
       "      <th>?.4</th>\n",
       "      <th>?.5</th>\n",
       "      <th>?.6</th>\n",
       "      <th>?.7</th>\n",
       "      <th>?.8</th>\n",
       "      <th>...</th>\n",
       "      <th>ZWILCH</th>\n",
       "      <th>ZWINT</th>\n",
       "      <th>ZXDA</th>\n",
       "      <th>ZXDB</th>\n",
       "      <th>ZXDC</th>\n",
       "      <th>ZYG11A</th>\n",
       "      <th>ZYG11B</th>\n",
       "      <th>ZYX</th>\n",
       "      <th>ZZEF1</th>\n",
       "      <th>ZZZ3</th>\n",
       "    </tr>\n",
       "  </thead>\n",
       "  <tbody>\n",
       "    <tr>\n",
       "      <th>0</th>\n",
       "      <td>TCGA.2V.A95S.01</td>\n",
       "      <td>1.5051</td>\n",
       "      <td>3.7074</td>\n",
       "      <td>90.1124</td>\n",
       "      <td>1017.1038</td>\n",
       "      <td>141.3911</td>\n",
       "      <td>3.9094</td>\n",
       "      <td>89.9169</td>\n",
       "      <td>456.1003</td>\n",
       "      <td>1.3031</td>\n",
       "      <td>...</td>\n",
       "      <td>212.4124</td>\n",
       "      <td>463.2676</td>\n",
       "      <td>24.7597</td>\n",
       "      <td>273.6602</td>\n",
       "      <td>794.2662</td>\n",
       "      <td>18.2440</td>\n",
       "      <td>499.1041</td>\n",
       "      <td>3172.5037</td>\n",
       "      <td>890.0472</td>\n",
       "      <td>510.1808</td>\n",
       "    </tr>\n",
       "    <tr>\n",
       "      <th>1</th>\n",
       "      <td>TCGA.2Y.A9GS.01</td>\n",
       "      <td>26.4120</td>\n",
       "      <td>2.6663</td>\n",
       "      <td>71.0054</td>\n",
       "      <td>639.2311</td>\n",
       "      <td>122.7206</td>\n",
       "      <td>1.9714</td>\n",
       "      <td>336.6190</td>\n",
       "      <td>894.5293</td>\n",
       "      <td>19.7141</td>\n",
       "      <td>...</td>\n",
       "      <td>541.3800</td>\n",
       "      <td>628.8812</td>\n",
       "      <td>68.5067</td>\n",
       "      <td>632.8241</td>\n",
       "      <td>1153.7703</td>\n",
       "      <td>71.4638</td>\n",
       "      <td>1000.4929</td>\n",
       "      <td>5301.1336</td>\n",
       "      <td>755.5446</td>\n",
       "      <td>860.5224</td>\n",
       "    </tr>\n",
       "    <tr>\n",
       "      <th>2</th>\n",
       "      <td>TCGA.2Y.A9GT.01</td>\n",
       "      <td>0.0000</td>\n",
       "      <td>4.4833</td>\n",
       "      <td>95.5122</td>\n",
       "      <td>742.4344</td>\n",
       "      <td>95.0460</td>\n",
       "      <td>3.5866</td>\n",
       "      <td>281.5512</td>\n",
       "      <td>445.6400</td>\n",
       "      <td>13.4499</td>\n",
       "      <td>...</td>\n",
       "      <td>176.8662</td>\n",
       "      <td>286.0345</td>\n",
       "      <td>46.6263</td>\n",
       "      <td>1219.4575</td>\n",
       "      <td>1133.3782</td>\n",
       "      <td>12.5532</td>\n",
       "      <td>1289.3970</td>\n",
       "      <td>3219.0092</td>\n",
       "      <td>860.7935</td>\n",
       "      <td>523.6494</td>\n",
       "    </tr>\n",
       "    <tr>\n",
       "      <th>3</th>\n",
       "      <td>TCGA.2Y.A9GU.01</td>\n",
       "      <td>5.7222</td>\n",
       "      <td>5.1216</td>\n",
       "      <td>61.6679</td>\n",
       "      <td>1186.9807</td>\n",
       "      <td>280.2709</td>\n",
       "      <td>4.1707</td>\n",
       "      <td>47.5460</td>\n",
       "      <td>200.1935</td>\n",
       "      <td>10.0097</td>\n",
       "      <td>...</td>\n",
       "      <td>329.8689</td>\n",
       "      <td>450.4354</td>\n",
       "      <td>18.3511</td>\n",
       "      <td>285.2758</td>\n",
       "      <td>1150.2786</td>\n",
       "      <td>9.1755</td>\n",
       "      <td>941.7437</td>\n",
       "      <td>3092.9899</td>\n",
       "      <td>1339.6283</td>\n",
       "      <td>343.6655</td>\n",
       "    </tr>\n",
       "  </tbody>\n",
       "</table>\n",
       "<p>4 rows × 15630 columns</p>\n",
       "</div>"
      ],
      "text/plain": [
       "           Samples        ?     ?.1      ?.2        ?.3       ?.4     ?.5  \\\n",
       "0  TCGA.2V.A95S.01   1.5051  3.7074  90.1124  1017.1038  141.3911  3.9094   \n",
       "1  TCGA.2Y.A9GS.01  26.4120  2.6663  71.0054   639.2311  122.7206  1.9714   \n",
       "2  TCGA.2Y.A9GT.01   0.0000  4.4833  95.5122   742.4344   95.0460  3.5866   \n",
       "3  TCGA.2Y.A9GU.01   5.7222  5.1216  61.6679  1186.9807  280.2709  4.1707   \n",
       "\n",
       "        ?.6       ?.7      ?.8  ...    ZWILCH     ZWINT     ZXDA       ZXDB  \\\n",
       "0   89.9169  456.1003   1.3031  ...  212.4124  463.2676  24.7597   273.6602   \n",
       "1  336.6190  894.5293  19.7141  ...  541.3800  628.8812  68.5067   632.8241   \n",
       "2  281.5512  445.6400  13.4499  ...  176.8662  286.0345  46.6263  1219.4575   \n",
       "3   47.5460  200.1935  10.0097  ...  329.8689  450.4354  18.3511   285.2758   \n",
       "\n",
       "        ZXDC   ZYG11A     ZYG11B        ZYX      ZZEF1      ZZZ3  \n",
       "0   794.2662  18.2440   499.1041  3172.5037   890.0472  510.1808  \n",
       "1  1153.7703  71.4638  1000.4929  5301.1336   755.5446  860.5224  \n",
       "2  1133.3782  12.5532  1289.3970  3219.0092   860.7935  523.6494  \n",
       "3  1150.2786   9.1755   941.7437  3092.9899  1339.6283  343.6655  \n",
       "\n",
       "[4 rows x 15630 columns]"
      ]
     },
     "execution_count": 32,
     "metadata": {},
     "output_type": "execute_result"
    }
   ],
   "source": [
    "rna_df.head(4)"
   ]
  },
  {
   "cell_type": "code",
   "execution_count": 33,
   "metadata": {},
   "outputs": [
    {
     "data": {
      "text/plain": [
       "True"
      ]
     },
     "execution_count": 33,
     "metadata": {},
     "output_type": "execute_result"
    }
   ],
   "source": [
    "rna_df['Samples'].tolist() == wxs_df['Samples'].tolist()"
   ]
  },
  {
   "cell_type": "code",
   "execution_count": null,
   "metadata": {},
   "outputs": [],
   "source": []
  }
 ],
 "metadata": {
  "kernelspec": {
   "display_name": "Python 3",
   "language": "python",
   "name": "python3"
  },
  "language_info": {
   "codemirror_mode": {
    "name": "ipython",
    "version": 3
   },
   "file_extension": ".py",
   "mimetype": "text/x-python",
   "name": "python",
   "nbconvert_exporter": "python",
   "pygments_lexer": "ipython3",
   "version": "3.7.3"
  }
 },
 "nbformat": 4,
 "nbformat_minor": 2
}
