{
 "cells": [
  {
   "cell_type": "code",
   "execution_count": 70,
   "metadata": {},
   "outputs": [],
   "source": [
    "import pandas as pd"
   ]
  },
  {
   "cell_type": "code",
   "execution_count": 71,
   "metadata": {},
   "outputs": [],
   "source": [
    "rna_df = pd.read_csv(\"../data/MESO/rna_raw.tsv\",sep='\\t')\n",
    "mrna_df = pd.read_csv(\"../data/MESO/mirna_raw.tsv\",sep='\\t')\n",
    "meth_df = pd.read_csv(\"../data/MESO/meth_raw.tsv\",sep='\\t')"
   ]
  },
  {
   "cell_type": "code",
   "execution_count": 72,
   "metadata": {},
   "outputs": [
    {
     "name": "stdout",
     "output_type": "stream",
     "text": [
      "87\n"
     ]
    }
   ],
   "source": [
    "clinic_df = pd.read_csv('../data/MESO/clinical.tsv', sep = '\\t')\n",
    "clinic_df = clinic_df[['case_submitter_id','days_to_death','vital_status','days_to_last_follow_up']]\n",
    "clinic_df = clinic_df.drop_duplicates()\n",
    "clinic_df = clinic_df.reset_index(drop = True)\n",
    "print(len(clinic_df))\n",
    "# clinic_df = clinic_df[clinic_df.case_submitter_id.isin(intersection) == True]\n",
    "def f(x):\n",
    "  if x['days_to_death'] == '\\'--': return x['days_to_last_follow_up']\n",
    "  else: return x['days_to_death']\n",
    "\n",
    "clinic_df['days'] = clinic_df.apply(f, axis=1)\n",
    "clinic_df.vital_status = clinic_df['vital_status'].apply(lambda x:0 if x == 'Alive' else 1)\n",
    "clinic_df= clinic_df.rename(columns = { 'vital_status':'event','case_submitter_id':'Samples'})\n",
    "delete_list = []\n",
    "for i in range(len(clinic_df)):\n",
    "    if clinic_df.iloc[i].days == '\\'--':\n",
    "        delete_list.append(i)\n",
    "clinic_df = clinic_df.drop(delete_list, axis=0)\n",
    "clinic_df = clinic_df[['Samples','days','event']]"
   ]
  },
  {
   "cell_type": "code",
   "execution_count": 73,
   "metadata": {},
   "outputs": [
    {
     "data": {
      "text/html": [
       "<div>\n",
       "<style scoped>\n",
       "    .dataframe tbody tr th:only-of-type {\n",
       "        vertical-align: middle;\n",
       "    }\n",
       "\n",
       "    .dataframe tbody tr th {\n",
       "        vertical-align: top;\n",
       "    }\n",
       "\n",
       "    .dataframe thead th {\n",
       "        text-align: right;\n",
       "    }\n",
       "</style>\n",
       "<table border=\"1\" class=\"dataframe\">\n",
       "  <thead>\n",
       "    <tr style=\"text-align: right;\">\n",
       "      <th></th>\n",
       "      <th>Samples</th>\n",
       "      <th>days</th>\n",
       "      <th>event</th>\n",
       "    </tr>\n",
       "  </thead>\n",
       "  <tbody>\n",
       "  </tbody>\n",
       "</table>\n",
       "</div>"
      ],
      "text/plain": [
       "Empty DataFrame\n",
       "Columns: [Samples, days, event]\n",
       "Index: []"
      ]
     },
     "execution_count": 73,
     "metadata": {},
     "output_type": "execute_result"
    }
   ],
   "source": [
    "clinic_df[clinic_df.Samples == 'TCGA-TS-A8AV']"
   ]
  },
  {
   "cell_type": "code",
   "execution_count": 74,
   "metadata": {},
   "outputs": [],
   "source": [
    "rna_df['Samples']= rna_df.apply(lambda row:row['Samples'][0:12],axis = 1)\n",
    "mrna_df['Samples']= rna_df.apply(lambda row:row['Samples'][0:12],axis = 1)\n",
    "meth_df['Samples']= rna_df.apply(lambda row:row['Samples'][0:12],axis = 1)"
   ]
  },
  {
   "cell_type": "code",
   "execution_count": 75,
   "metadata": {},
   "outputs": [],
   "source": [
    "list1 = set(rna_df['Samples'].tolist())\n",
    "list2 = set(mrna_df['Samples'].tolist())\n",
    "list3 = set(meth_df['Samples'].tolist())\n",
    "list4 = set(clinic_df['Samples'].tolist())"
   ]
  },
  {
   "cell_type": "code",
   "execution_count": 76,
   "metadata": {},
   "outputs": [],
   "source": [
    "difference = list((list1 | list2| list3 | list4) - (list1 & list2 & list3 & list4))"
   ]
  },
  {
   "cell_type": "code",
   "execution_count": 77,
   "metadata": {},
   "outputs": [],
   "source": [
    "intersection = list(list1 & list2 & list3)"
   ]
  },
  {
   "cell_type": "code",
   "execution_count": 78,
   "metadata": {},
   "outputs": [
    {
     "data": {
      "text/plain": [
       "87"
      ]
     },
     "execution_count": 78,
     "metadata": {},
     "output_type": "execute_result"
    }
   ],
   "source": [
    "len(rna_df)"
   ]
  },
  {
   "cell_type": "code",
   "execution_count": 79,
   "metadata": {},
   "outputs": [
    {
     "data": {
      "text/plain": [
       "87"
      ]
     },
     "execution_count": 79,
     "metadata": {},
     "output_type": "execute_result"
    }
   ],
   "source": [
    "len(rna_df.Samples.isin(difference) == False)"
   ]
  },
  {
   "cell_type": "code",
   "execution_count": 80,
   "metadata": {},
   "outputs": [],
   "source": [
    "rna_df = rna_df[rna_df.Samples.isin(difference) == False]"
   ]
  },
  {
   "cell_type": "code",
   "execution_count": 81,
   "metadata": {},
   "outputs": [],
   "source": [
    "meth_df = meth_df[meth_df.Samples.isin(difference) == False]"
   ]
  },
  {
   "cell_type": "code",
   "execution_count": 82,
   "metadata": {},
   "outputs": [],
   "source": [
    "\n",
    "mrna_df = mrna_df.loc[mrna_df.Samples.isin(difference) == False]"
   ]
  },
  {
   "cell_type": "code",
   "execution_count": 83,
   "metadata": {},
   "outputs": [],
   "source": [
    "clinic_df  = clinic_df.reset_index(drop = True)\n",
    "clinic_df = clinic_df[clinic_df.Samples.isin(difference) == False]"
   ]
  },
  {
   "cell_type": "code",
   "execution_count": 84,
   "metadata": {},
   "outputs": [],
   "source": [
    "rna_df.to_csv(\"../data/MESO/rna.tsv\", sep = '\\t', index = False)\n",
    "mrna_df.to_csv(\"../data/MESO/mir.tsv\", sep = '\\t', index = False)\n",
    "meth_df.to_csv(\"../data/MESO/meth.tsv\", sep = '\\t', index = False)\n",
    "clinic_df.to_csv(\"../data/MESO/survival.tsv\", sep = '\\t', index = False)"
   ]
  },
  {
   "cell_type": "code",
   "execution_count": 85,
   "metadata": {},
   "outputs": [
    {
     "data": {
      "text/plain": [
       "86"
      ]
     },
     "execution_count": 85,
     "metadata": {},
     "output_type": "execute_result"
    }
   ],
   "source": [
    "len(rna_df)"
   ]
  },
  {
   "cell_type": "code",
   "execution_count": 86,
   "metadata": {},
   "outputs": [
    {
     "data": {
      "text/plain": [
       "86"
      ]
     },
     "execution_count": 86,
     "metadata": {},
     "output_type": "execute_result"
    }
   ],
   "source": [
    "len(mrna_df)"
   ]
  },
  {
   "cell_type": "code",
   "execution_count": 87,
   "metadata": {},
   "outputs": [
    {
     "data": {
      "text/plain": [
       "86"
      ]
     },
     "execution_count": 87,
     "metadata": {},
     "output_type": "execute_result"
    }
   ],
   "source": [
    "len(meth_df)"
   ]
  },
  {
   "cell_type": "code",
   "execution_count": 88,
   "metadata": {},
   "outputs": [
    {
     "data": {
      "text/plain": [
       "86"
      ]
     },
     "execution_count": 88,
     "metadata": {},
     "output_type": "execute_result"
    }
   ],
   "source": [
    "len(clinic_df)"
   ]
  },
  {
   "cell_type": "code",
   "execution_count": 22,
   "metadata": {},
   "outputs": [
    {
     "data": {
      "text/html": [
       "<div>\n",
       "<style scoped>\n",
       "    .dataframe tbody tr th:only-of-type {\n",
       "        vertical-align: middle;\n",
       "    }\n",
       "\n",
       "    .dataframe tbody tr th {\n",
       "        vertical-align: top;\n",
       "    }\n",
       "\n",
       "    .dataframe thead th {\n",
       "        text-align: right;\n",
       "    }\n",
       "</style>\n",
       "<table border=\"1\" class=\"dataframe\">\n",
       "  <thead>\n",
       "    <tr style=\"text-align: right;\">\n",
       "      <th></th>\n",
       "      <th>Samples</th>\n",
       "      <th>days</th>\n",
       "      <th>event</th>\n",
       "    </tr>\n",
       "  </thead>\n",
       "  <tbody>\n",
       "    <tr>\n",
       "      <th>0</th>\n",
       "      <td>TCGA-ZN-A9VU</td>\n",
       "      <td>977</td>\n",
       "      <td>0</td>\n",
       "    </tr>\n",
       "    <tr>\n",
       "      <th>1</th>\n",
       "      <td>TCGA-3H-AB3M</td>\n",
       "      <td>885</td>\n",
       "      <td>1</td>\n",
       "    </tr>\n",
       "    <tr>\n",
       "      <th>2</th>\n",
       "      <td>TCGA-UD-AABY</td>\n",
       "      <td>843</td>\n",
       "      <td>1</td>\n",
       "    </tr>\n",
       "    <tr>\n",
       "      <th>3</th>\n",
       "      <td>TCGA-UT-A88G</td>\n",
       "      <td>76</td>\n",
       "      <td>1</td>\n",
       "    </tr>\n",
       "    <tr>\n",
       "      <th>4</th>\n",
       "      <td>TCGA-SH-A9CT</td>\n",
       "      <td>449</td>\n",
       "      <td>1</td>\n",
       "    </tr>\n",
       "    <tr>\n",
       "      <th>5</th>\n",
       "      <td>TCGA-TS-A7P7</td>\n",
       "      <td>591</td>\n",
       "      <td>1</td>\n",
       "    </tr>\n",
       "    <tr>\n",
       "      <th>6</th>\n",
       "      <td>TCGA-UD-AAC4</td>\n",
       "      <td>719</td>\n",
       "      <td>1</td>\n",
       "    </tr>\n",
       "    <tr>\n",
       "      <th>7</th>\n",
       "      <td>TCGA-TS-A7P1</td>\n",
       "      <td>563</td>\n",
       "      <td>1</td>\n",
       "    </tr>\n",
       "    <tr>\n",
       "      <th>8</th>\n",
       "      <td>TCGA-3U-A98E</td>\n",
       "      <td>1916</td>\n",
       "      <td>0</td>\n",
       "    </tr>\n",
       "    <tr>\n",
       "      <th>9</th>\n",
       "      <td>TCGA-TS-A7P6</td>\n",
       "      <td>283</td>\n",
       "      <td>1</td>\n",
       "    </tr>\n",
       "    <tr>\n",
       "      <th>10</th>\n",
       "      <td>TCGA-3U-A98I</td>\n",
       "      <td>860</td>\n",
       "      <td>1</td>\n",
       "    </tr>\n",
       "    <tr>\n",
       "      <th>11</th>\n",
       "      <td>TCGA-SC-A6LR</td>\n",
       "      <td>1168</td>\n",
       "      <td>0</td>\n",
       "    </tr>\n",
       "    <tr>\n",
       "      <th>12</th>\n",
       "      <td>TCGA-LK-A4NY</td>\n",
       "      <td>168</td>\n",
       "      <td>1</td>\n",
       "    </tr>\n",
       "    <tr>\n",
       "      <th>13</th>\n",
       "      <td>TCGA-MQ-A4LV</td>\n",
       "      <td>107</td>\n",
       "      <td>1</td>\n",
       "    </tr>\n",
       "    <tr>\n",
       "      <th>14</th>\n",
       "      <td>TCGA-MQ-A6BQ</td>\n",
       "      <td>2359</td>\n",
       "      <td>0</td>\n",
       "    </tr>\n",
       "    <tr>\n",
       "      <th>15</th>\n",
       "      <td>TCGA-UT-A88E</td>\n",
       "      <td>434</td>\n",
       "      <td>1</td>\n",
       "    </tr>\n",
       "    <tr>\n",
       "      <th>16</th>\n",
       "      <td>TCGA-3U-A98G</td>\n",
       "      <td>630</td>\n",
       "      <td>1</td>\n",
       "    </tr>\n",
       "    <tr>\n",
       "      <th>17</th>\n",
       "      <td>TCGA-YS-A95C</td>\n",
       "      <td>133</td>\n",
       "      <td>1</td>\n",
       "    </tr>\n",
       "    <tr>\n",
       "      <th>18</th>\n",
       "      <td>TCGA-ZN-A9VP</td>\n",
       "      <td>228</td>\n",
       "      <td>0</td>\n",
       "    </tr>\n",
       "    <tr>\n",
       "      <th>19</th>\n",
       "      <td>TCGA-LK-A4NZ</td>\n",
       "      <td>244</td>\n",
       "      <td>1</td>\n",
       "    </tr>\n",
       "    <tr>\n",
       "      <th>20</th>\n",
       "      <td>TCGA-MQ-A4LP</td>\n",
       "      <td>527</td>\n",
       "      <td>1</td>\n",
       "    </tr>\n",
       "    <tr>\n",
       "      <th>21</th>\n",
       "      <td>TCGA-TS-A7OZ</td>\n",
       "      <td>844</td>\n",
       "      <td>1</td>\n",
       "    </tr>\n",
       "    <tr>\n",
       "      <th>22</th>\n",
       "      <td>TCGA-SC-A6LN</td>\n",
       "      <td>414</td>\n",
       "      <td>1</td>\n",
       "    </tr>\n",
       "    <tr>\n",
       "      <th>23</th>\n",
       "      <td>TCGA-3H-AB3K</td>\n",
       "      <td>1715</td>\n",
       "      <td>1</td>\n",
       "    </tr>\n",
       "    <tr>\n",
       "      <th>24</th>\n",
       "      <td>TCGA-3U-A98H</td>\n",
       "      <td>1156</td>\n",
       "      <td>1</td>\n",
       "    </tr>\n",
       "    <tr>\n",
       "      <th>25</th>\n",
       "      <td>TCGA-TS-A8AV</td>\n",
       "      <td>'--</td>\n",
       "      <td>1</td>\n",
       "    </tr>\n",
       "    <tr>\n",
       "      <th>26</th>\n",
       "      <td>TCGA-MQ-A4KX</td>\n",
       "      <td>2459</td>\n",
       "      <td>1</td>\n",
       "    </tr>\n",
       "    <tr>\n",
       "      <th>27</th>\n",
       "      <td>TCGA-ZN-A9VW</td>\n",
       "      <td>84</td>\n",
       "      <td>1</td>\n",
       "    </tr>\n",
       "    <tr>\n",
       "      <th>28</th>\n",
       "      <td>TCGA-MQ-A4LJ</td>\n",
       "      <td>709</td>\n",
       "      <td>1</td>\n",
       "    </tr>\n",
       "    <tr>\n",
       "      <th>29</th>\n",
       "      <td>TCGA-UD-AAC1</td>\n",
       "      <td>789</td>\n",
       "      <td>1</td>\n",
       "    </tr>\n",
       "    <tr>\n",
       "      <th>...</th>\n",
       "      <td>...</td>\n",
       "      <td>...</td>\n",
       "      <td>...</td>\n",
       "    </tr>\n",
       "    <tr>\n",
       "      <th>56</th>\n",
       "      <td>TCGA-TS-A7P0</td>\n",
       "      <td>1261</td>\n",
       "      <td>1</td>\n",
       "    </tr>\n",
       "    <tr>\n",
       "      <th>57</th>\n",
       "      <td>TCGA-UT-A88C</td>\n",
       "      <td>863</td>\n",
       "      <td>1</td>\n",
       "    </tr>\n",
       "    <tr>\n",
       "      <th>58</th>\n",
       "      <td>TCGA-UD-AABZ</td>\n",
       "      <td>197</td>\n",
       "      <td>1</td>\n",
       "    </tr>\n",
       "    <tr>\n",
       "      <th>59</th>\n",
       "      <td>TCGA-LK-A4O4</td>\n",
       "      <td>949</td>\n",
       "      <td>1</td>\n",
       "    </tr>\n",
       "    <tr>\n",
       "      <th>60</th>\n",
       "      <td>TCGA-TS-A8AS</td>\n",
       "      <td>795</td>\n",
       "      <td>1</td>\n",
       "    </tr>\n",
       "    <tr>\n",
       "      <th>61</th>\n",
       "      <td>TCGA-ZN-A9VS</td>\n",
       "      <td>1228</td>\n",
       "      <td>0</td>\n",
       "    </tr>\n",
       "    <tr>\n",
       "      <th>62</th>\n",
       "      <td>TCGA-UD-AAC7</td>\n",
       "      <td>406</td>\n",
       "      <td>1</td>\n",
       "    </tr>\n",
       "    <tr>\n",
       "      <th>63</th>\n",
       "      <td>TCGA-MQ-A6BR</td>\n",
       "      <td>2090</td>\n",
       "      <td>0</td>\n",
       "    </tr>\n",
       "    <tr>\n",
       "      <th>64</th>\n",
       "      <td>TCGA-LK-A4O2</td>\n",
       "      <td>57</td>\n",
       "      <td>1</td>\n",
       "    </tr>\n",
       "    <tr>\n",
       "      <th>65</th>\n",
       "      <td>TCGA-SC-AA5Z</td>\n",
       "      <td>664</td>\n",
       "      <td>0</td>\n",
       "    </tr>\n",
       "    <tr>\n",
       "      <th>66</th>\n",
       "      <td>TCGA-MQ-A4LI</td>\n",
       "      <td>572</td>\n",
       "      <td>1</td>\n",
       "    </tr>\n",
       "    <tr>\n",
       "      <th>67</th>\n",
       "      <td>TCGA-LK-A4O0</td>\n",
       "      <td>185</td>\n",
       "      <td>1</td>\n",
       "    </tr>\n",
       "    <tr>\n",
       "      <th>68</th>\n",
       "      <td>TCGA-UD-AAC5</td>\n",
       "      <td>253</td>\n",
       "      <td>1</td>\n",
       "    </tr>\n",
       "    <tr>\n",
       "      <th>69</th>\n",
       "      <td>TCGA-UT-A88D</td>\n",
       "      <td>823</td>\n",
       "      <td>1</td>\n",
       "    </tr>\n",
       "    <tr>\n",
       "      <th>70</th>\n",
       "      <td>TCGA-3U-A98D</td>\n",
       "      <td>142</td>\n",
       "      <td>1</td>\n",
       "    </tr>\n",
       "    <tr>\n",
       "      <th>71</th>\n",
       "      <td>TCGA-TS-A8AY</td>\n",
       "      <td>469</td>\n",
       "      <td>1</td>\n",
       "    </tr>\n",
       "    <tr>\n",
       "      <th>72</th>\n",
       "      <td>TCGA-3H-AB3X</td>\n",
       "      <td>1490</td>\n",
       "      <td>0</td>\n",
       "    </tr>\n",
       "    <tr>\n",
       "      <th>73</th>\n",
       "      <td>TCGA-NQ-A638</td>\n",
       "      <td>-8</td>\n",
       "      <td>0</td>\n",
       "    </tr>\n",
       "    <tr>\n",
       "      <th>74</th>\n",
       "      <td>TCGA-MQ-A6BN</td>\n",
       "      <td>757</td>\n",
       "      <td>1</td>\n",
       "    </tr>\n",
       "    <tr>\n",
       "      <th>75</th>\n",
       "      <td>TCGA-TS-A8AI</td>\n",
       "      <td>328</td>\n",
       "      <td>1</td>\n",
       "    </tr>\n",
       "    <tr>\n",
       "      <th>76</th>\n",
       "      <td>TCGA-3H-AB3S</td>\n",
       "      <td>385</td>\n",
       "      <td>1</td>\n",
       "    </tr>\n",
       "    <tr>\n",
       "      <th>77</th>\n",
       "      <td>TCGA-ZN-A9VQ</td>\n",
       "      <td>499</td>\n",
       "      <td>0</td>\n",
       "    </tr>\n",
       "    <tr>\n",
       "      <th>78</th>\n",
       "      <td>TCGA-TS-A7OY</td>\n",
       "      <td>255</td>\n",
       "      <td>1</td>\n",
       "    </tr>\n",
       "    <tr>\n",
       "      <th>79</th>\n",
       "      <td>TCGA-TS-A7P3</td>\n",
       "      <td>689</td>\n",
       "      <td>1</td>\n",
       "    </tr>\n",
       "    <tr>\n",
       "      <th>80</th>\n",
       "      <td>TCGA-SH-A7BC</td>\n",
       "      <td>727</td>\n",
       "      <td>1</td>\n",
       "    </tr>\n",
       "    <tr>\n",
       "      <th>81</th>\n",
       "      <td>TCGA-SC-A6LP</td>\n",
       "      <td>78</td>\n",
       "      <td>1</td>\n",
       "    </tr>\n",
       "    <tr>\n",
       "      <th>82</th>\n",
       "      <td>TCGA-3U-A98F</td>\n",
       "      <td>536</td>\n",
       "      <td>1</td>\n",
       "    </tr>\n",
       "    <tr>\n",
       "      <th>83</th>\n",
       "      <td>TCGA-LK-A4O6</td>\n",
       "      <td>448</td>\n",
       "      <td>1</td>\n",
       "    </tr>\n",
       "    <tr>\n",
       "      <th>84</th>\n",
       "      <td>TCGA-LK-A4NW</td>\n",
       "      <td>546</td>\n",
       "      <td>1</td>\n",
       "    </tr>\n",
       "    <tr>\n",
       "      <th>85</th>\n",
       "      <td>TCGA-SH-A7BH</td>\n",
       "      <td>243</td>\n",
       "      <td>1</td>\n",
       "    </tr>\n",
       "  </tbody>\n",
       "</table>\n",
       "<p>86 rows × 3 columns</p>\n",
       "</div>"
      ],
      "text/plain": [
       "         Samples  days  event\n",
       "0   TCGA-ZN-A9VU   977      0\n",
       "1   TCGA-3H-AB3M   885      1\n",
       "2   TCGA-UD-AABY   843      1\n",
       "3   TCGA-UT-A88G    76      1\n",
       "4   TCGA-SH-A9CT   449      1\n",
       "5   TCGA-TS-A7P7   591      1\n",
       "6   TCGA-UD-AAC4   719      1\n",
       "7   TCGA-TS-A7P1   563      1\n",
       "8   TCGA-3U-A98E  1916      0\n",
       "9   TCGA-TS-A7P6   283      1\n",
       "10  TCGA-3U-A98I   860      1\n",
       "11  TCGA-SC-A6LR  1168      0\n",
       "12  TCGA-LK-A4NY   168      1\n",
       "13  TCGA-MQ-A4LV   107      1\n",
       "14  TCGA-MQ-A6BQ  2359      0\n",
       "15  TCGA-UT-A88E   434      1\n",
       "16  TCGA-3U-A98G   630      1\n",
       "17  TCGA-YS-A95C   133      1\n",
       "18  TCGA-ZN-A9VP   228      0\n",
       "19  TCGA-LK-A4NZ   244      1\n",
       "20  TCGA-MQ-A4LP   527      1\n",
       "21  TCGA-TS-A7OZ   844      1\n",
       "22  TCGA-SC-A6LN   414      1\n",
       "23  TCGA-3H-AB3K  1715      1\n",
       "24  TCGA-3U-A98H  1156      1\n",
       "25  TCGA-TS-A8AV   '--      1\n",
       "26  TCGA-MQ-A4KX  2459      1\n",
       "27  TCGA-ZN-A9VW    84      1\n",
       "28  TCGA-MQ-A4LJ   709      1\n",
       "29  TCGA-UD-AAC1   789      1\n",
       "..           ...   ...    ...\n",
       "56  TCGA-TS-A7P0  1261      1\n",
       "57  TCGA-UT-A88C   863      1\n",
       "58  TCGA-UD-AABZ   197      1\n",
       "59  TCGA-LK-A4O4   949      1\n",
       "60  TCGA-TS-A8AS   795      1\n",
       "61  TCGA-ZN-A9VS  1228      0\n",
       "62  TCGA-UD-AAC7   406      1\n",
       "63  TCGA-MQ-A6BR  2090      0\n",
       "64  TCGA-LK-A4O2    57      1\n",
       "65  TCGA-SC-AA5Z   664      0\n",
       "66  TCGA-MQ-A4LI   572      1\n",
       "67  TCGA-LK-A4O0   185      1\n",
       "68  TCGA-UD-AAC5   253      1\n",
       "69  TCGA-UT-A88D   823      1\n",
       "70  TCGA-3U-A98D   142      1\n",
       "71  TCGA-TS-A8AY   469      1\n",
       "72  TCGA-3H-AB3X  1490      0\n",
       "73  TCGA-NQ-A638    -8      0\n",
       "74  TCGA-MQ-A6BN   757      1\n",
       "75  TCGA-TS-A8AI   328      1\n",
       "76  TCGA-3H-AB3S   385      1\n",
       "77  TCGA-ZN-A9VQ   499      0\n",
       "78  TCGA-TS-A7OY   255      1\n",
       "79  TCGA-TS-A7P3   689      1\n",
       "80  TCGA-SH-A7BC   727      1\n",
       "81  TCGA-SC-A6LP    78      1\n",
       "82  TCGA-3U-A98F   536      1\n",
       "83  TCGA-LK-A4O6   448      1\n",
       "84  TCGA-LK-A4NW   546      1\n",
       "85  TCGA-SH-A7BH   243      1\n",
       "\n",
       "[86 rows x 3 columns]"
      ]
     },
     "execution_count": 22,
     "metadata": {},
     "output_type": "execute_result"
    }
   ],
   "source": [
    "clinic_df"
   ]
  },
  {
   "cell_type": "code",
   "execution_count": null,
   "metadata": {},
   "outputs": [],
   "source": []
  }
 ],
 "metadata": {
  "kernelspec": {
   "display_name": "Python 3",
   "language": "python",
   "name": "python3"
  },
  "language_info": {
   "codemirror_mode": {
    "name": "ipython",
    "version": 3
   },
   "file_extension": ".py",
   "mimetype": "text/x-python",
   "name": "python",
   "nbconvert_exporter": "python",
   "pygments_lexer": "ipython3",
   "version": "3.7.3"
  }
 },
 "nbformat": 4,
 "nbformat_minor": 2
}
