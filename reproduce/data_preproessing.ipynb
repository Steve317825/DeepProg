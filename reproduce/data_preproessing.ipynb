{
 "cells": [
  {
   "cell_type": "code",
   "execution_count": 159,
   "metadata": {},
   "outputs": [],
   "source": [
    "import pandas as pd"
   ]
  },
  {
   "cell_type": "code",
   "execution_count": 160,
   "metadata": {},
   "outputs": [],
   "source": [
    "rna_df = pd.read_csv(\"ACC/rna.tsv\",sep='\\t')\n",
    "mrna_df = pd.read_csv(\"ACC/mirna.tsv\",sep='\\t')\n",
    "meth_df = pd.read_csv(\"ACC/meth.tsv\",sep='\\t')"
   ]
  },
  {
   "cell_type": "code",
   "execution_count": 161,
   "metadata": {},
   "outputs": [],
   "source": [
    "rna_df['Samples']= rna_df.apply(lambda row:row['Samples'][0:12],axis = 1)\n",
    "mrna_df['Samples']= rna_df.apply(lambda row:row['Samples'][0:12],axis = 1)\n",
    "meth_df['Samples']= rna_df.apply(lambda row:row['Samples'][0:12],axis = 1)"
   ]
  },
  {
   "cell_type": "code",
   "execution_count": 162,
   "metadata": {},
   "outputs": [],
   "source": [
    "list1 = set(rna_df['Samples'].tolist())\n",
    "list2 = set(mrna_df['Samples'].tolist())\n",
    "list3 = set(meth_df['Samples'].tolist())"
   ]
  },
  {
   "cell_type": "code",
   "execution_count": 163,
   "metadata": {},
   "outputs": [],
   "source": [
    "difference = list((list1 | list2| list3) - (list1 & list2 & list3))"
   ]
  },
  {
   "cell_type": "code",
   "execution_count": 164,
   "metadata": {},
   "outputs": [],
   "source": [
    "intersection = list(list1 & list2 & list3)"
   ]
  },
  {
   "cell_type": "code",
   "execution_count": 165,
   "metadata": {},
   "outputs": [],
   "source": [
    "rna_df = rna_df[rna_df.Samples.isin(difference) == False]"
   ]
  },
  {
   "cell_type": "code",
   "execution_count": 166,
   "metadata": {},
   "outputs": [],
   "source": [
    "meth_df = meth_df[meth_df.Samples.isin(difference) == False]"
   ]
  },
  {
   "cell_type": "code",
   "execution_count": 167,
   "metadata": {},
   "outputs": [],
   "source": [
    "mrna_df = mrna_df[meth_df.Samples.isin(difference) == False]"
   ]
  },
  {
   "cell_type": "code",
   "execution_count": 168,
   "metadata": {},
   "outputs": [],
   "source": [
    "clinic_df = pd.read_csv('../../data/ACC/clinical.tsv', sep = '\\t')"
   ]
  },
  {
   "cell_type": "code",
   "execution_count": 169,
   "metadata": {},
   "outputs": [
    {
     "data": {
      "text/plain": [
       "'253'"
      ]
     },
     "execution_count": 169,
     "metadata": {},
     "output_type": "execute_result"
    }
   ],
   "source": [
    "clinic_df.iloc[144].days_to_last_follow_up"
   ]
  },
  {
   "cell_type": "code",
   "execution_count": 170,
   "metadata": {},
   "outputs": [],
   "source": [
    "clinic_df = clinic_df[['case_submitter_id','days_to_death','vital_status','days_to_last_follow_up']]\n",
    "clinic_df = clinic_df.drop_duplicates()\n",
    "clinic_df = clinic_df[clinic_df.case_submitter_id.isin(intersection) == True]"
   ]
  },
  {
   "cell_type": "code",
   "execution_count": 171,
   "metadata": {},
   "outputs": [
    {
     "data": {
      "text/html": [
       "<div>\n",
       "<style scoped>\n",
       "    .dataframe tbody tr th:only-of-type {\n",
       "        vertical-align: middle;\n",
       "    }\n",
       "\n",
       "    .dataframe tbody tr th {\n",
       "        vertical-align: top;\n",
       "    }\n",
       "\n",
       "    .dataframe thead th {\n",
       "        text-align: right;\n",
       "    }\n",
       "</style>\n",
       "<table border=\"1\" class=\"dataframe\">\n",
       "  <thead>\n",
       "    <tr style=\"text-align: right;\">\n",
       "      <th></th>\n",
       "      <th>case_submitter_id</th>\n",
       "      <th>days_to_death</th>\n",
       "      <th>vital_status</th>\n",
       "      <th>days_to_last_follow_up</th>\n",
       "    </tr>\n",
       "  </thead>\n",
       "  <tbody>\n",
       "    <tr>\n",
       "      <th>0</th>\n",
       "      <td>TCGA-OR-A5JL</td>\n",
       "      <td>'--</td>\n",
       "      <td>Alive</td>\n",
       "      <td>2056</td>\n",
       "    </tr>\n",
       "    <tr>\n",
       "      <th>2</th>\n",
       "      <td>TCGA-OR-A5LL</td>\n",
       "      <td>1613</td>\n",
       "      <td>Dead</td>\n",
       "      <td>'--</td>\n",
       "    </tr>\n",
       "  </tbody>\n",
       "</table>\n",
       "</div>"
      ],
      "text/plain": [
       "  case_submitter_id days_to_death vital_status days_to_last_follow_up\n",
       "0      TCGA-OR-A5JL           '--        Alive                   2056\n",
       "2      TCGA-OR-A5LL          1613         Dead                    '--"
      ]
     },
     "execution_count": 171,
     "metadata": {},
     "output_type": "execute_result"
    }
   ],
   "source": [
    "clinic_df.head(2)"
   ]
  },
  {
   "cell_type": "code",
   "execution_count": 172,
   "metadata": {},
   "outputs": [],
   "source": [
    "def f(x):\n",
    "  if x['days_to_death'] == '\\'--': return x['days_to_last_follow_up']\n",
    "  else: return x['days_to_death']\n",
    "\n",
    "clinic_df['days'] = clinic_df.apply(f, axis=1)"
   ]
  },
  {
   "cell_type": "code",
   "execution_count": 173,
   "metadata": {},
   "outputs": [],
   "source": [
    "clinic_df.vital_status = clinic_df['vital_status'].apply(lambda x:0 if x == 'Alive' else 1)"
   ]
  },
  {
   "cell_type": "code",
   "execution_count": 174,
   "metadata": {},
   "outputs": [],
   "source": [
    "clinic_df= clinic_df.rename(columns = { 'vital_status':'event','case_submitter_id':'Samples'})"
   ]
  },
  {
   "cell_type": "code",
   "execution_count": 175,
   "metadata": {},
   "outputs": [],
   "source": [
    "clinic_df = clinic_df[['Samples','days','event']]"
   ]
  },
  {
   "cell_type": "code",
   "execution_count": 176,
   "metadata": {},
   "outputs": [],
   "source": [
    "rna_df.to_csv(\"../../data/ACC/rna.tsv\", sep = '\\t', index = False)\n",
    "mrna_df.to_csv(\"../../data/ACC/mir.tsv\", sep = '\\t', index = False)\n",
    "meth_df.to_csv(\"../../data/ACC/meth.tsv\", sep = '\\t', index = False)\n",
    "clinic_df.to_csv(\"../../data/ACC/survival.tsv\", sep = '\\t', index = False)"
   ]
  },
  {
   "cell_type": "code",
   "execution_count": 177,
   "metadata": {},
   "outputs": [
    {
     "data": {
      "text/plain": [
       "79"
      ]
     },
     "execution_count": 177,
     "metadata": {},
     "output_type": "execute_result"
    }
   ],
   "source": [
    "len(rna_df)"
   ]
  },
  {
   "cell_type": "code",
   "execution_count": 178,
   "metadata": {},
   "outputs": [
    {
     "data": {
      "text/plain": [
       "79"
      ]
     },
     "execution_count": 178,
     "metadata": {},
     "output_type": "execute_result"
    }
   ],
   "source": [
    "len(mrna_df)"
   ]
  },
  {
   "cell_type": "code",
   "execution_count": 179,
   "metadata": {},
   "outputs": [
    {
     "data": {
      "text/plain": [
       "79"
      ]
     },
     "execution_count": 179,
     "metadata": {},
     "output_type": "execute_result"
    }
   ],
   "source": [
    "len(meth_df)"
   ]
  },
  {
   "cell_type": "code",
   "execution_count": 180,
   "metadata": {},
   "outputs": [
    {
     "data": {
      "text/plain": [
       "79"
      ]
     },
     "execution_count": 180,
     "metadata": {},
     "output_type": "execute_result"
    }
   ],
   "source": [
    "len(clinic_df)"
   ]
  },
  {
   "cell_type": "code",
   "execution_count": 158,
   "metadata": {},
   "outputs": [
    {
     "data": {
      "text/html": [
       "<div>\n",
       "<style scoped>\n",
       "    .dataframe tbody tr th:only-of-type {\n",
       "        vertical-align: middle;\n",
       "    }\n",
       "\n",
       "    .dataframe tbody tr th {\n",
       "        vertical-align: top;\n",
       "    }\n",
       "\n",
       "    .dataframe thead th {\n",
       "        text-align: right;\n",
       "    }\n",
       "</style>\n",
       "<table border=\"1\" class=\"dataframe\">\n",
       "  <thead>\n",
       "    <tr style=\"text-align: right;\">\n",
       "      <th></th>\n",
       "      <th>Samples</th>\n",
       "      <th>days</th>\n",
       "      <th>event</th>\n",
       "    </tr>\n",
       "  </thead>\n",
       "  <tbody>\n",
       "    <tr>\n",
       "      <th>0</th>\n",
       "      <td>TCGA-OR-A5JL</td>\n",
       "      <td>2056</td>\n",
       "      <td>0</td>\n",
       "    </tr>\n",
       "    <tr>\n",
       "      <th>2</th>\n",
       "      <td>TCGA-OR-A5LL</td>\n",
       "      <td>1613</td>\n",
       "      <td>1</td>\n",
       "    </tr>\n",
       "    <tr>\n",
       "      <th>4</th>\n",
       "      <td>TCGA-OR-A5J7</td>\n",
       "      <td>490</td>\n",
       "      <td>1</td>\n",
       "    </tr>\n",
       "    <tr>\n",
       "      <th>6</th>\n",
       "      <td>TCGA-P6-A5OG</td>\n",
       "      <td>383</td>\n",
       "      <td>1</td>\n",
       "    </tr>\n",
       "    <tr>\n",
       "      <th>8</th>\n",
       "      <td>TCGA-OR-A5J8</td>\n",
       "      <td>579</td>\n",
       "      <td>1</td>\n",
       "    </tr>\n",
       "    <tr>\n",
       "      <th>12</th>\n",
       "      <td>TCGA-OR-A5JP</td>\n",
       "      <td>464</td>\n",
       "      <td>0</td>\n",
       "    </tr>\n",
       "    <tr>\n",
       "      <th>16</th>\n",
       "      <td>TCGA-OR-A5LT</td>\n",
       "      <td>549</td>\n",
       "      <td>0</td>\n",
       "    </tr>\n",
       "    <tr>\n",
       "      <th>18</th>\n",
       "      <td>TCGA-OR-A5JQ</td>\n",
       "      <td>1103</td>\n",
       "      <td>0</td>\n",
       "    </tr>\n",
       "    <tr>\n",
       "      <th>20</th>\n",
       "      <td>TCGA-OR-A5K8</td>\n",
       "      <td>749</td>\n",
       "      <td>0</td>\n",
       "    </tr>\n",
       "    <tr>\n",
       "      <th>22</th>\n",
       "      <td>TCGA-OR-A5LO</td>\n",
       "      <td>2405</td>\n",
       "      <td>1</td>\n",
       "    </tr>\n",
       "    <tr>\n",
       "      <th>24</th>\n",
       "      <td>TCGA-OR-A5KV</td>\n",
       "      <td>3878</td>\n",
       "      <td>0</td>\n",
       "    </tr>\n",
       "    <tr>\n",
       "      <th>26</th>\n",
       "      <td>TCGA-OR-A5JD</td>\n",
       "      <td>3038</td>\n",
       "      <td>0</td>\n",
       "    </tr>\n",
       "    <tr>\n",
       "      <th>28</th>\n",
       "      <td>TCGA-OR-A5K6</td>\n",
       "      <td>1493</td>\n",
       "      <td>0</td>\n",
       "    </tr>\n",
       "    <tr>\n",
       "      <th>30</th>\n",
       "      <td>TCGA-OR-A5L5</td>\n",
       "      <td>1317</td>\n",
       "      <td>0</td>\n",
       "    </tr>\n",
       "    <tr>\n",
       "      <th>32</th>\n",
       "      <td>TCGA-OR-A5KX</td>\n",
       "      <td>1364</td>\n",
       "      <td>0</td>\n",
       "    </tr>\n",
       "    <tr>\n",
       "      <th>34</th>\n",
       "      <td>TCGA-OR-A5JY</td>\n",
       "      <td>552</td>\n",
       "      <td>1</td>\n",
       "    </tr>\n",
       "    <tr>\n",
       "      <th>36</th>\n",
       "      <td>TCGA-OR-A5JV</td>\n",
       "      <td>2023</td>\n",
       "      <td>0</td>\n",
       "    </tr>\n",
       "    <tr>\n",
       "      <th>40</th>\n",
       "      <td>TCGA-OR-A5KU</td>\n",
       "      <td>4673</td>\n",
       "      <td>0</td>\n",
       "    </tr>\n",
       "    <tr>\n",
       "      <th>42</th>\n",
       "      <td>TCGA-PK-A5H8</td>\n",
       "      <td>3623</td>\n",
       "      <td>0</td>\n",
       "    </tr>\n",
       "    <tr>\n",
       "      <th>44</th>\n",
       "      <td>TCGA-OR-A5JX</td>\n",
       "      <td>950</td>\n",
       "      <td>0</td>\n",
       "    </tr>\n",
       "    <tr>\n",
       "      <th>46</th>\n",
       "      <td>TCGA-OR-A5JA</td>\n",
       "      <td>922</td>\n",
       "      <td>1</td>\n",
       "    </tr>\n",
       "    <tr>\n",
       "      <th>50</th>\n",
       "      <td>TCGA-OR-A5JO</td>\n",
       "      <td>1194</td>\n",
       "      <td>0</td>\n",
       "    </tr>\n",
       "    <tr>\n",
       "      <th>52</th>\n",
       "      <td>TCGA-OR-A5LN</td>\n",
       "      <td>2342</td>\n",
       "      <td>0</td>\n",
       "    </tr>\n",
       "    <tr>\n",
       "      <th>54</th>\n",
       "      <td>TCGA-OR-A5L8</td>\n",
       "      <td>885</td>\n",
       "      <td>0</td>\n",
       "    </tr>\n",
       "    <tr>\n",
       "      <th>56</th>\n",
       "      <td>TCGA-PK-A5HA</td>\n",
       "      <td>1201</td>\n",
       "      <td>0</td>\n",
       "    </tr>\n",
       "    <tr>\n",
       "      <th>60</th>\n",
       "      <td>TCGA-OR-A5KY</td>\n",
       "      <td>391</td>\n",
       "      <td>1</td>\n",
       "    </tr>\n",
       "    <tr>\n",
       "      <th>62</th>\n",
       "      <td>TCGA-OR-A5JW</td>\n",
       "      <td>2202</td>\n",
       "      <td>0</td>\n",
       "    </tr>\n",
       "    <tr>\n",
       "      <th>66</th>\n",
       "      <td>TCGA-OR-A5KW</td>\n",
       "      <td>2076</td>\n",
       "      <td>0</td>\n",
       "    </tr>\n",
       "    <tr>\n",
       "      <th>68</th>\n",
       "      <td>TCGA-OR-A5K2</td>\n",
       "      <td>994</td>\n",
       "      <td>1</td>\n",
       "    </tr>\n",
       "    <tr>\n",
       "      <th>70</th>\n",
       "      <td>TCGA-OR-A5K4</td>\n",
       "      <td>1082</td>\n",
       "      <td>0</td>\n",
       "    </tr>\n",
       "    <tr>\n",
       "      <th>...</th>\n",
       "      <td>...</td>\n",
       "      <td>...</td>\n",
       "      <td>...</td>\n",
       "    </tr>\n",
       "    <tr>\n",
       "      <th>120</th>\n",
       "      <td>TCGA-OR-A5J1</td>\n",
       "      <td>1355</td>\n",
       "      <td>1</td>\n",
       "    </tr>\n",
       "    <tr>\n",
       "      <th>122</th>\n",
       "      <td>TCGA-OR-A5KO</td>\n",
       "      <td>1414</td>\n",
       "      <td>0</td>\n",
       "    </tr>\n",
       "    <tr>\n",
       "      <th>124</th>\n",
       "      <td>TCGA-OR-A5JI</td>\n",
       "      <td>2331</td>\n",
       "      <td>0</td>\n",
       "    </tr>\n",
       "    <tr>\n",
       "      <th>126</th>\n",
       "      <td>TCGA-OR-A5JE</td>\n",
       "      <td>2105</td>\n",
       "      <td>1</td>\n",
       "    </tr>\n",
       "    <tr>\n",
       "      <th>128</th>\n",
       "      <td>TCGA-OR-A5JC</td>\n",
       "      <td>1750</td>\n",
       "      <td>1</td>\n",
       "    </tr>\n",
       "    <tr>\n",
       "      <th>130</th>\n",
       "      <td>TCGA-OR-A5JT</td>\n",
       "      <td>907</td>\n",
       "      <td>0</td>\n",
       "    </tr>\n",
       "    <tr>\n",
       "      <th>132</th>\n",
       "      <td>TCGA-OR-A5LE</td>\n",
       "      <td>662</td>\n",
       "      <td>1</td>\n",
       "    </tr>\n",
       "    <tr>\n",
       "      <th>134</th>\n",
       "      <td>TCGA-OR-A5L9</td>\n",
       "      <td>871</td>\n",
       "      <td>0</td>\n",
       "    </tr>\n",
       "    <tr>\n",
       "      <th>136</th>\n",
       "      <td>TCGA-OR-A5K3</td>\n",
       "      <td>3465</td>\n",
       "      <td>0</td>\n",
       "    </tr>\n",
       "    <tr>\n",
       "      <th>138</th>\n",
       "      <td>TCGA-OR-A5J6</td>\n",
       "      <td>2703</td>\n",
       "      <td>0</td>\n",
       "    </tr>\n",
       "    <tr>\n",
       "      <th>142</th>\n",
       "      <td>TCGA-OR-A5LH</td>\n",
       "      <td>2385</td>\n",
       "      <td>1</td>\n",
       "    </tr>\n",
       "    <tr>\n",
       "      <th>144</th>\n",
       "      <td>TCGA-OR-A5K5</td>\n",
       "      <td>498</td>\n",
       "      <td>1</td>\n",
       "    </tr>\n",
       "    <tr>\n",
       "      <th>146</th>\n",
       "      <td>TCGA-OR-A5JB</td>\n",
       "      <td>551</td>\n",
       "      <td>1</td>\n",
       "    </tr>\n",
       "    <tr>\n",
       "      <th>148</th>\n",
       "      <td>TCGA-OR-A5LD</td>\n",
       "      <td>1197</td>\n",
       "      <td>1</td>\n",
       "    </tr>\n",
       "    <tr>\n",
       "      <th>150</th>\n",
       "      <td>TCGA-OR-A5K9</td>\n",
       "      <td>344</td>\n",
       "      <td>1</td>\n",
       "    </tr>\n",
       "    <tr>\n",
       "      <th>152</th>\n",
       "      <td>TCGA-OR-A5JF</td>\n",
       "      <td>2015</td>\n",
       "      <td>0</td>\n",
       "    </tr>\n",
       "    <tr>\n",
       "      <th>154</th>\n",
       "      <td>TCGA-OR-A5KT</td>\n",
       "      <td>2895</td>\n",
       "      <td>0</td>\n",
       "    </tr>\n",
       "    <tr>\n",
       "      <th>156</th>\n",
       "      <td>TCGA-OR-A5J3</td>\n",
       "      <td>2091</td>\n",
       "      <td>0</td>\n",
       "    </tr>\n",
       "    <tr>\n",
       "      <th>158</th>\n",
       "      <td>TCGA-OR-A5LP</td>\n",
       "      <td>1857</td>\n",
       "      <td>0</td>\n",
       "    </tr>\n",
       "    <tr>\n",
       "      <th>160</th>\n",
       "      <td>TCGA-OR-A5LM</td>\n",
       "      <td>1858</td>\n",
       "      <td>0</td>\n",
       "    </tr>\n",
       "    <tr>\n",
       "      <th>162</th>\n",
       "      <td>TCGA-OR-A5LA</td>\n",
       "      <td>719</td>\n",
       "      <td>0</td>\n",
       "    </tr>\n",
       "    <tr>\n",
       "      <th>166</th>\n",
       "      <td>TCGA-OR-A5K0</td>\n",
       "      <td>1029</td>\n",
       "      <td>0</td>\n",
       "    </tr>\n",
       "    <tr>\n",
       "      <th>168</th>\n",
       "      <td>TCGA-OR-A5L6</td>\n",
       "      <td>861</td>\n",
       "      <td>0</td>\n",
       "    </tr>\n",
       "    <tr>\n",
       "      <th>170</th>\n",
       "      <td>TCGA-OR-A5LS</td>\n",
       "      <td>1096</td>\n",
       "      <td>0</td>\n",
       "    </tr>\n",
       "    <tr>\n",
       "      <th>172</th>\n",
       "      <td>TCGA-OR-A5LC</td>\n",
       "      <td>159</td>\n",
       "      <td>1</td>\n",
       "    </tr>\n",
       "    <tr>\n",
       "      <th>174</th>\n",
       "      <td>TCGA-OR-A5K1</td>\n",
       "      <td>3289</td>\n",
       "      <td>0</td>\n",
       "    </tr>\n",
       "    <tr>\n",
       "      <th>176</th>\n",
       "      <td>TCGA-OR-A5LG</td>\n",
       "      <td>1589</td>\n",
       "      <td>0</td>\n",
       "    </tr>\n",
       "    <tr>\n",
       "      <th>178</th>\n",
       "      <td>TCGA-OR-A5LB</td>\n",
       "      <td>1204</td>\n",
       "      <td>1</td>\n",
       "    </tr>\n",
       "    <tr>\n",
       "      <th>180</th>\n",
       "      <td>TCGA-OR-A5JM</td>\n",
       "      <td>562</td>\n",
       "      <td>1</td>\n",
       "    </tr>\n",
       "    <tr>\n",
       "      <th>182</th>\n",
       "      <td>TCGA-OR-A5LJ</td>\n",
       "      <td>1105</td>\n",
       "      <td>1</td>\n",
       "    </tr>\n",
       "  </tbody>\n",
       "</table>\n",
       "<p>79 rows × 3 columns</p>\n",
       "</div>"
      ],
      "text/plain": [
       "          Samples  days  event\n",
       "0    TCGA-OR-A5JL  2056      0\n",
       "2    TCGA-OR-A5LL  1613      1\n",
       "4    TCGA-OR-A5J7   490      1\n",
       "6    TCGA-P6-A5OG   383      1\n",
       "8    TCGA-OR-A5J8   579      1\n",
       "12   TCGA-OR-A5JP   464      0\n",
       "16   TCGA-OR-A5LT   549      0\n",
       "18   TCGA-OR-A5JQ  1103      0\n",
       "20   TCGA-OR-A5K8   749      0\n",
       "22   TCGA-OR-A5LO  2405      1\n",
       "24   TCGA-OR-A5KV  3878      0\n",
       "26   TCGA-OR-A5JD  3038      0\n",
       "28   TCGA-OR-A5K6  1493      0\n",
       "30   TCGA-OR-A5L5  1317      0\n",
       "32   TCGA-OR-A5KX  1364      0\n",
       "34   TCGA-OR-A5JY   552      1\n",
       "36   TCGA-OR-A5JV  2023      0\n",
       "40   TCGA-OR-A5KU  4673      0\n",
       "42   TCGA-PK-A5H8  3623      0\n",
       "44   TCGA-OR-A5JX   950      0\n",
       "46   TCGA-OR-A5JA   922      1\n",
       "50   TCGA-OR-A5JO  1194      0\n",
       "52   TCGA-OR-A5LN  2342      0\n",
       "54   TCGA-OR-A5L8   885      0\n",
       "56   TCGA-PK-A5HA  1201      0\n",
       "60   TCGA-OR-A5KY   391      1\n",
       "62   TCGA-OR-A5JW  2202      0\n",
       "66   TCGA-OR-A5KW  2076      0\n",
       "68   TCGA-OR-A5K2   994      1\n",
       "70   TCGA-OR-A5K4  1082      0\n",
       "..            ...   ...    ...\n",
       "120  TCGA-OR-A5J1  1355      1\n",
       "122  TCGA-OR-A5KO  1414      0\n",
       "124  TCGA-OR-A5JI  2331      0\n",
       "126  TCGA-OR-A5JE  2105      1\n",
       "128  TCGA-OR-A5JC  1750      1\n",
       "130  TCGA-OR-A5JT   907      0\n",
       "132  TCGA-OR-A5LE   662      1\n",
       "134  TCGA-OR-A5L9   871      0\n",
       "136  TCGA-OR-A5K3  3465      0\n",
       "138  TCGA-OR-A5J6  2703      0\n",
       "142  TCGA-OR-A5LH  2385      1\n",
       "144  TCGA-OR-A5K5   498      1\n",
       "146  TCGA-OR-A5JB   551      1\n",
       "148  TCGA-OR-A5LD  1197      1\n",
       "150  TCGA-OR-A5K9   344      1\n",
       "152  TCGA-OR-A5JF  2015      0\n",
       "154  TCGA-OR-A5KT  2895      0\n",
       "156  TCGA-OR-A5J3  2091      0\n",
       "158  TCGA-OR-A5LP  1857      0\n",
       "160  TCGA-OR-A5LM  1858      0\n",
       "162  TCGA-OR-A5LA   719      0\n",
       "166  TCGA-OR-A5K0  1029      0\n",
       "168  TCGA-OR-A5L6   861      0\n",
       "170  TCGA-OR-A5LS  1096      0\n",
       "172  TCGA-OR-A5LC   159      1\n",
       "174  TCGA-OR-A5K1  3289      0\n",
       "176  TCGA-OR-A5LG  1589      0\n",
       "178  TCGA-OR-A5LB  1204      1\n",
       "180  TCGA-OR-A5JM   562      1\n",
       "182  TCGA-OR-A5LJ  1105      1\n",
       "\n",
       "[79 rows x 3 columns]"
      ]
     },
     "execution_count": 158,
     "metadata": {},
     "output_type": "execute_result"
    }
   ],
   "source": [
    "clinic_df"
   ]
  },
  {
   "cell_type": "code",
   "execution_count": null,
   "metadata": {},
   "outputs": [],
   "source": []
  }
 ],
 "metadata": {
  "kernelspec": {
   "display_name": "Python 3",
   "language": "python",
   "name": "python3"
  },
  "language_info": {
   "codemirror_mode": {
    "name": "ipython",
    "version": 3
   },
   "file_extension": ".py",
   "mimetype": "text/x-python",
   "name": "python",
   "nbconvert_exporter": "python",
   "pygments_lexer": "ipython3",
   "version": "3.7.3"
  }
 },
 "nbformat": 4,
 "nbformat_minor": 2
}
